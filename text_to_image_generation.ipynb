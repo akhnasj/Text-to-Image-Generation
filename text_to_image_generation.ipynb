{
  "nbformat": 4,
  "nbformat_minor": 0,
  "metadata": {
    "colab": {
      "provenance": [],
      "gpuType": "T4",
      "authorship_tag": "ABX9TyPzpzYsOXCfp5KXS3zVO7XJ",
      "include_colab_link": true
    },
    "kernelspec": {
      "name": "python3",
      "display_name": "Python 3"
    },
    "language_info": {
      "name": "python"
    },
    "accelerator": "GPU"
  },
  "cells": [
    {
      "cell_type": "markdown",
      "metadata": {
        "id": "view-in-github",
        "colab_type": "text"
      },
      "source": [
        "<a href=\"https://colab.research.google.com/github/akhnasj/Text-to-Image-Generation/blob/main/text_to_image_generation.ipynb\" target=\"_parent\"><img src=\"https://colab.research.google.com/assets/colab-badge.svg\" alt=\"Open In Colab\"/></a>"
      ]
    },
    {
      "cell_type": "code",
      "execution_count": null,
      "metadata": {
        "id": "ECbn0cNlxizH"
      },
      "outputs": [],
      "source": [
        "#diffusers is a hugging face page for using diffusion models from huggingface hub\n",
        "!pip install diffusers transformers gradio accelerate"
      ]
    },
    {
      "cell_type": "code",
      "source": [
        "from diffusers import StableDiffusionPipeline\n",
        "import matplotlib.pyplot as plt\n",
        "import torch"
      ],
      "metadata": {
        "id": "jy76VrtWxnA1"
      },
      "execution_count": null,
      "outputs": []
    },
    {
      "cell_type": "code",
      "source": [
        "!pip show torch"
      ],
      "metadata": {
        "id": "mS5-03p8y0_a"
      },
      "execution_count": null,
      "outputs": []
    },
    {
      "cell_type": "code",
      "source": [
        "model_id1 = \"dreamlike-art/dreamlike-diffusion-1.0\"\n",
        "model_id2 = \"stabilityai/stable-diffusion-xl-base-1.0\"\n",
        "\n",
        "pipe = StableDiffusionPipeline.from_pretrained(model_id1, torch_dtype=torch.float16, use_safetensors=True)\n",
        "pipe = pipe.to(\"cuda\")"
      ],
      "metadata": {
        "id": "ajUlCzsry_3V"
      },
      "execution_count": null,
      "outputs": []
    },
    {
      "cell_type": "code",
      "source": [
        "prompt = \"\"\"indian girl with flower in hands\"\"\""
      ],
      "metadata": {
        "id": "wt51aQEzzDO9"
      },
      "execution_count": null,
      "outputs": []
    },
    {
      "cell_type": "code",
      "source": [
        "image = pipe(prompt).images[0]"
      ],
      "metadata": {
        "id": "0SggaamJ1Epq"
      },
      "execution_count": null,
      "outputs": []
    },
    {
      "cell_type": "code",
      "source": [
        "print(\"[PROMPT]: \",prompt)\n",
        "plt.imshow(image);\n",
        "plt.axis('off');"
      ],
      "metadata": {
        "id": "Z_ujrRGg08dQ"
      },
      "execution_count": null,
      "outputs": []
    },
    {
      "cell_type": "code",
      "source": [
        "prompt = \"\"\"a place covered with snow, and lakes in between\"\"\"\n",
        "image = pipe(prompt).images[0]"
      ],
      "metadata": {
        "id": "iVGabc_s1AkH"
      },
      "execution_count": null,
      "outputs": []
    },
    {
      "cell_type": "code",
      "source": [
        "print(\"[PROMPT]: \",prompt)\n",
        "plt.imshow(image);\n",
        "plt.axis('off');"
      ],
      "metadata": {
        "id": "4x6f9cBP1tCr"
      },
      "execution_count": null,
      "outputs": []
    },
    {
      "cell_type": "code",
      "source": [
        "prompt = \"\"\"Create a cartoon of a happy japanese family\"\"\"\n",
        "image = pipe(prompt).images[0]\n",
        "print(\"[PROMPT]: \",prompt)\n",
        "plt.imshow(image);\n",
        "plt.axis('off');"
      ],
      "metadata": {
        "id": "-uWKoZwq12u0"
      },
      "execution_count": null,
      "outputs": []
    },
    {
      "cell_type": "code",
      "source": [
        "!pip install nbstripout"
      ],
      "metadata": {
        "id": "hFn0gwPwiHuQ"
      },
      "execution_count": null,
      "outputs": []
    },
    {
      "cell_type": "code",
      "source": [
        "!jupyter nbconvert --ClearOutputPreprocessor\n"
      ],
      "metadata": {
        "id": "jRFvjXNe4TsU"
      },
      "execution_count": null,
      "outputs": []
    },
    {
      "cell_type": "code",
      "source": [],
      "metadata": {
        "id": "L2IXOOxD4boY"
      },
      "execution_count": null,
      "outputs": []
    }
  ]
}